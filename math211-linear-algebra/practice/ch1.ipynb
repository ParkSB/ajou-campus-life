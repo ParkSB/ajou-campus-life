{
  "nbformat": 4,
  "nbformat_minor": 0,
  "metadata": {
    "colab": {
      "provenance": []
    },
    "kernelspec": {
      "name": "python3",
      "display_name": "Python 3"
    },
    "language_info": {
      "name": "python"
    }
  },
  "cells": [
    {
      "cell_type": "markdown",
      "source": [
        "# Chapter 1. 벡터, 파트1"
      ],
      "metadata": {
        "id": "dzpfBTwmn7wt"
      }
    },
    {
      "cell_type": "code",
      "source": [
        "import numpy as np\n",
        "import matplotlib.pyplot as plt\n",
        "import math"
      ],
      "metadata": {
        "id": "WYtW6qYYoYtY"
      },
      "execution_count": 92,
      "outputs": []
    },
    {
      "cell_type": "markdown",
      "source": [
        "## 1-1. 벡터 덧셈"
      ],
      "metadata": {
        "id": "RQ8s5uRtoB94"
      }
    },
    {
      "cell_type": "code",
      "execution_count": 93,
      "metadata": {
        "colab": {
          "base_uri": "https://localhost:8080/"
        },
        "id": "Tqttstcen5JB",
        "outputId": "5bec041c-2f09-4f2a-c306-6adb138007d4"
      },
      "outputs": [
        {
          "output_type": "execute_result",
          "data": {
            "text/plain": [
              "array([[ 5, -4]])"
            ]
          },
          "metadata": {},
          "execution_count": 93
        }
      ],
      "source": [
        "v = np.array([[1, 2]])\n",
        "w = np.array([[4, -6]])\n",
        "v + w"
      ]
    },
    {
      "cell_type": "markdown",
      "source": [
        "## 1-2. 벡터 노름 계산\n",
        "\n",
        "$||\\mathbf v|| = \\sqrt{\\sum_{i=1}^n v_i^2}$"
      ],
      "metadata": {
        "id": "sQLd6PSsrfFU"
      }
    },
    {
      "cell_type": "code",
      "source": [
        "def norm(v):\n",
        "  return np.sqrt(np.sum(v ** 2))\n",
        "\n",
        "v = np.array([[3, 5, 1]])\n",
        "\n",
        "print(\"res: {}, ans: {}\".format(norm(v), np.linalg.norm(v)))"
      ],
      "metadata": {
        "colab": {
          "base_uri": "https://localhost:8080/"
        },
        "id": "r2cdxBlcp1te",
        "outputId": "d662db77-e536-4ca7-bbc7-d2d607332e2e"
      },
      "execution_count": 111,
      "outputs": [
        {
          "output_type": "stream",
          "name": "stdout",
          "text": [
            "res: 5.916079783099616, ans: 5.916079783099616\n"
          ]
        }
      ]
    },
    {
      "cell_type": "markdown",
      "source": [
        "## 1-3. 단위 벡터\n",
        "\n",
        "$\\hat{\\mathbf v} = {1 \\over ||\\mathbf v||} \\mathbf v$"
      ],
      "metadata": {
        "id": "yC0pIY6As0ZX"
      }
    },
    {
      "cell_type": "code",
      "source": [
        "def identity(v):\n",
        "  return v / norm(v)\n",
        "\n",
        "v = identity(np.array([[3, 5, 1]]))\n",
        "print(\"v: {}, norm: {}\".format(v, norm(v)))"
      ],
      "metadata": {
        "colab": {
          "base_uri": "https://localhost:8080/"
        },
        "id": "Y1Slz8H2s5qk",
        "outputId": "b60b69b5-3f97-4300-ed73-ce93435619e8"
      },
      "execution_count": 95,
      "outputs": [
        {
          "output_type": "stream",
          "name": "stdout",
          "text": [
            "v: [[0.50709255 0.84515425 0.16903085]], norm: 1.0\n"
          ]
        }
      ]
    },
    {
      "cell_type": "markdown",
      "source": [
        "## 1-4. 임의 크기 벡터"
      ],
      "metadata": {
        "id": "NRUjHgRHv4Y2"
      }
    },
    {
      "cell_type": "code",
      "source": [
        "def identity(v, s):\n",
        "  return s * v / norm(v)\n",
        "\n",
        "v = identity(np.array([[3, 5, 1]]), 3)\n",
        "print(\"v: {}, norm: {}\".format(v, norm(v)))"
      ],
      "metadata": {
        "colab": {
          "base_uri": "https://localhost:8080/"
        },
        "id": "WXpIP9B3ut9I",
        "outputId": "acd4028e-265d-456e-9d88-92026b944c19"
      },
      "execution_count": 96,
      "outputs": [
        {
          "output_type": "stream",
          "name": "stdout",
          "text": [
            "v: [[1.52127766 2.53546276 0.50709255]], norm: 3.0000000000000004\n"
          ]
        }
      ]
    },
    {
      "cell_type": "markdown",
      "source": [
        "## 1-5. 전치"
      ],
      "metadata": {
        "id": "xHE2Vz3kv6Ye"
      }
    },
    {
      "cell_type": "code",
      "source": [
        "def transpose(v):\n",
        "  ret = np.zeros((v.shape[1], v.shape[0]))\n",
        "  for i in range(v.shape[1]):\n",
        "    ret[i][0] = v[0][i]\n",
        "  return ret\n",
        "\n",
        "v = np.array([[3, 5, 1]])\n",
        "\n",
        "print(\"res:\\n{} \\n\\n ans:\\n{}\".format(transpose(v), v.T));"
      ],
      "metadata": {
        "colab": {
          "base_uri": "https://localhost:8080/"
        },
        "id": "TsM9RwWYv73z",
        "outputId": "fda8936b-39ba-49e4-d8a1-06d2e9e452b4"
      },
      "execution_count": 116,
      "outputs": [
        {
          "output_type": "stream",
          "name": "stdout",
          "text": [
            "res:\n",
            "[[3.]\n",
            " [5.]\n",
            " [1.]] \n",
            "\n",
            " ans:\n",
            "[[3]\n",
            " [5]\n",
            " [1]]\n"
          ]
        }
      ]
    },
    {
      "cell_type": "markdown",
      "source": [
        "## 1-6. 내적을 이용한 노름 계산\n",
        "\n",
        "$\\delta = \\sum_{i=1}^n a_i b_i$"
      ],
      "metadata": {
        "id": "9hrdQGOTzfJm"
      }
    },
    {
      "cell_type": "code",
      "source": [
        "v = np.array([[3, 5, 1]])\n",
        "\n",
        "print(\"res: {}, ans: {}\".format(\n",
        "    np.sqrt(np.dot(v, v.T)), np.linalg.norm(v)))"
      ],
      "metadata": {
        "colab": {
          "base_uri": "https://localhost:8080/"
        },
        "id": "9jApJtbMzg_d",
        "outputId": "9cf9174f-6780-458c-e352-33793d947e34"
      },
      "execution_count": 119,
      "outputs": [
        {
          "output_type": "stream",
          "name": "stdout",
          "text": [
            "res: [[5.91607978]], ans: 5.916079783099616\n"
          ]
        }
      ]
    },
    {
      "cell_type": "markdown",
      "source": [
        "## 1-7. 내적의 교환 법칙\n",
        "\n",
        "$\\mathbf v^T \\mathbf w = \\mathbf w^T \\mathbf v$"
      ],
      "metadata": {
        "id": "noMmIuXp2Yjc"
      }
    },
    {
      "cell_type": "code",
      "source": [
        "v = np.array([[3, 5, 1]])\n",
        "w = np.array([[4, 3, 7]])\n",
        "\n",
        "print(\"v * w: {}, w * v: {}\\n\".format(np.sum(v * w), np.sum(w * v)))"
      ],
      "metadata": {
        "colab": {
          "base_uri": "https://localhost:8080/"
        },
        "id": "UsOad5Tj2nAd",
        "outputId": "a21236ef-793c-40e0-c092-f2e08af7074a"
      },
      "execution_count": 142,
      "outputs": [
        {
          "output_type": "stream",
          "name": "stdout",
          "text": [
            "v * w: 34, w * v: 34\n",
            "\n"
          ]
        }
      ]
    }
  ]
}