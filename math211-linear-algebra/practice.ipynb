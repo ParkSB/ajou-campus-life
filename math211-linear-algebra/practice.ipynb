{
  "nbformat": 4,
  "nbformat_minor": 0,
  "metadata": {
    "colab": {
      "provenance": [],
      "toc_visible": true
    },
    "kernelspec": {
      "name": "python3",
      "display_name": "Python 3"
    },
    "language_info": {
      "name": "python"
    }
  },
  "cells": [
    {
      "cell_type": "markdown",
      "source": [
        "# 개발자를 위한 실전 선형대수학"
      ],
      "metadata": {
        "id": "rFtpCtZStxg1"
      }
    },
    {
      "cell_type": "code",
      "source": [
        "import numpy as np\n",
        "import matplotlib.pyplot as plt\n",
        "import math"
      ],
      "metadata": {
        "id": "WYtW6qYYoYtY"
      },
      "execution_count": 39,
      "outputs": []
    },
    {
      "cell_type": "markdown",
      "source": [
        "## Chapter 1. 벡터, 파트1"
      ],
      "metadata": {
        "id": "dzpfBTwmn7wt"
      }
    },
    {
      "cell_type": "markdown",
      "source": [
        "### 벡터 덧셈"
      ],
      "metadata": {
        "id": "RQ8s5uRtoB94"
      }
    },
    {
      "cell_type": "code",
      "execution_count": 40,
      "metadata": {
        "colab": {
          "base_uri": "https://localhost:8080/"
        },
        "id": "Tqttstcen5JB",
        "outputId": "4b9d2a28-576b-4194-8be5-b8ebb5a24f1e"
      },
      "outputs": [
        {
          "output_type": "execute_result",
          "data": {
            "text/plain": [
              "array([[ 5, -4]])"
            ]
          },
          "metadata": {},
          "execution_count": 40
        }
      ],
      "source": [
        "v = np.array([[1, 2]])\n",
        "w = np.array([[4, -6]])\n",
        "v + w"
      ]
    },
    {
      "cell_type": "markdown",
      "source": [
        "### 벡터 노름 계산\n",
        "\n",
        "$||\\mathbf v|| = \\sqrt{\\sum_{i=1}^n v_i^2}$"
      ],
      "metadata": {
        "id": "sQLd6PSsrfFU"
      }
    },
    {
      "cell_type": "code",
      "source": [
        "def norm(v):\n",
        "  return np.sqrt(np.sum(v ** 2))\n",
        "\n",
        "v = np.array([[3, 5, 1]])\n",
        "\n",
        "print(\"res: {}, ans: {}\".format(norm(v), np.linalg.norm(v)))"
      ],
      "metadata": {
        "colab": {
          "base_uri": "https://localhost:8080/"
        },
        "id": "r2cdxBlcp1te",
        "outputId": "c8d455ab-0546-40b1-e00e-3f87c34d6f51"
      },
      "execution_count": 41,
      "outputs": [
        {
          "output_type": "stream",
          "name": "stdout",
          "text": [
            "res: 5.916079783099616, ans: 5.916079783099616\n"
          ]
        }
      ]
    },
    {
      "cell_type": "markdown",
      "source": [
        "### 단위 벡터\n",
        "\n",
        "$\\hat{\\mathbf v} = {1 \\over ||\\mathbf v||} \\mathbf v$"
      ],
      "metadata": {
        "id": "yC0pIY6As0ZX"
      }
    },
    {
      "cell_type": "code",
      "source": [
        "def identity(v):\n",
        "  return v / norm(v)\n",
        "\n",
        "v = identity(np.array([[3, 5, 1]]))\n",
        "print(\"v: {}, norm: {}\".format(v, norm(v)))"
      ],
      "metadata": {
        "colab": {
          "base_uri": "https://localhost:8080/"
        },
        "id": "Y1Slz8H2s5qk",
        "outputId": "c5579ae4-ba3c-49c2-edc5-0e1364f70e47"
      },
      "execution_count": 42,
      "outputs": [
        {
          "output_type": "stream",
          "name": "stdout",
          "text": [
            "v: [[0.50709255 0.84515425 0.16903085]], norm: 1.0\n"
          ]
        }
      ]
    },
    {
      "cell_type": "markdown",
      "source": [
        "### 임의 크기 벡터"
      ],
      "metadata": {
        "id": "NRUjHgRHv4Y2"
      }
    },
    {
      "cell_type": "code",
      "source": [
        "def identity(v, s):\n",
        "  return s * v / norm(v)\n",
        "\n",
        "v = identity(np.array([[3, 5, 1]]), 3)\n",
        "print(\"v: {}, norm: {}\".format(v, norm(v)))"
      ],
      "metadata": {
        "colab": {
          "base_uri": "https://localhost:8080/"
        },
        "id": "WXpIP9B3ut9I",
        "outputId": "f34919a5-9fbf-4f20-ba37-ef94220a93c5"
      },
      "execution_count": 43,
      "outputs": [
        {
          "output_type": "stream",
          "name": "stdout",
          "text": [
            "v: [[1.52127766 2.53546276 0.50709255]], norm: 3.0000000000000004\n"
          ]
        }
      ]
    },
    {
      "cell_type": "markdown",
      "source": [
        "### 전치"
      ],
      "metadata": {
        "id": "xHE2Vz3kv6Ye"
      }
    },
    {
      "cell_type": "code",
      "source": [
        "def transpose(v):\n",
        "  ret = np.zeros((v.shape[1], v.shape[0]))\n",
        "  for i in range(v.shape[1]):\n",
        "    ret[i][0] = v[0][i]\n",
        "  return ret\n",
        "\n",
        "v = np.array([[3, 5, 1]])\n",
        "\n",
        "print(\"res:\\n{}\\n\\nans:\\n{}\".format(transpose(v), v.T));"
      ],
      "metadata": {
        "colab": {
          "base_uri": "https://localhost:8080/"
        },
        "id": "TsM9RwWYv73z",
        "outputId": "072f09d2-5d93-4ba6-d0f4-a9b4f2ca7888"
      },
      "execution_count": 44,
      "outputs": [
        {
          "output_type": "stream",
          "name": "stdout",
          "text": [
            "res:\n",
            "[[3.]\n",
            " [5.]\n",
            " [1.]]\n",
            "\n",
            "ans:\n",
            "[[3]\n",
            " [5]\n",
            " [1]]\n"
          ]
        }
      ]
    },
    {
      "cell_type": "markdown",
      "source": [
        "### 내적을 이용한 노름 계산\n",
        "\n",
        "$\\delta = \\sum_{i=1}^n a_i b_i$"
      ],
      "metadata": {
        "id": "9hrdQGOTzfJm"
      }
    },
    {
      "cell_type": "code",
      "source": [
        "v = np.array([[3, 5, 1]])\n",
        "\n",
        "print(\"res: {}, ans: {}\".format(\n",
        "    np.sqrt(np.dot(v, v.T)), np.linalg.norm(v)))"
      ],
      "metadata": {
        "colab": {
          "base_uri": "https://localhost:8080/"
        },
        "id": "9jApJtbMzg_d",
        "outputId": "3e0d2a72-245f-4a97-c2b7-ca2f27194ce3"
      },
      "execution_count": 45,
      "outputs": [
        {
          "output_type": "stream",
          "name": "stdout",
          "text": [
            "res: [[5.91607978]], ans: 5.916079783099616\n"
          ]
        }
      ]
    },
    {
      "cell_type": "markdown",
      "source": [
        "### 내적의 교환 법칙\n",
        "\n",
        "$\\mathbf v^T \\mathbf w = \\mathbf w^T \\mathbf v$"
      ],
      "metadata": {
        "id": "noMmIuXp2Yjc"
      }
    },
    {
      "cell_type": "code",
      "source": [
        "v = np.array([[3, 5, 1]])\n",
        "w = np.array([[4, 3, 7]])\n",
        "\n",
        "print(\"v * w: {}, w * v: {}\".format(np.sum(v * w), np.sum(w * v)))"
      ],
      "metadata": {
        "colab": {
          "base_uri": "https://localhost:8080/"
        },
        "id": "UsOad5Tj2nAd",
        "outputId": "bc33602a-7a3f-4652-b06a-fed1a853220b"
      },
      "execution_count": 46,
      "outputs": [
        {
          "output_type": "stream",
          "name": "stdout",
          "text": [
            "v * w: 34, w * v: 34\n"
          ]
        }
      ]
    },
    {
      "cell_type": "markdown",
      "source": [
        "## Chapter 2. 벡터, 파트 2"
      ],
      "metadata": {
        "id": "sc48XrVatjSc"
      }
    },
    {
      "cell_type": "markdown",
      "source": [
        "### 선형가중결합\n",
        "\n",
        "$\\mathbf{w} = \\lambda_1 \\mathbf{v}_1 + \\lambda_2 \\mathbf{v}_2 + \\cdots + \\lambda_n \\mathbf{v}_n$"
      ],
      "metadata": {
        "id": "5-G0JzYDt7DS"
      }
    },
    {
      "cell_type": "code",
      "source": [
        "v = np.array([[4, 5, 1], [-4, 0, -4], [1, 3, 2]])\n",
        "l = [1, 2, -3]\n",
        "w = np.zeros((3, 1))\n",
        "\n",
        "for i in range(3):\n",
        "  for j in range(3):\n",
        "    w[i] += l[j] * v[j][i]\n",
        "\n",
        "print(\"w = l * v =\\n{}\".format(w))"
      ],
      "metadata": {
        "colab": {
          "base_uri": "https://localhost:8080/"
        },
        "id": "GfgigW0puKxh",
        "outputId": "b23de7db-1a55-47e6-8b59-2415a5277a92"
      },
      "execution_count": 47,
      "outputs": [
        {
          "output_type": "stream",
          "name": "stdout",
          "text": [
            "w = l * v =\n",
            "[[ -7.]\n",
            " [ -4.]\n",
            " [-13.]]\n"
          ]
        }
      ]
    },
    {
      "cell_type": "markdown",
      "source": [
        "## Chapter 3. 벡터 응용"
      ],
      "metadata": {
        "id": "G9pLXoI42wtB"
      }
    },
    {
      "cell_type": "markdown",
      "source": [
        "### 피어슨 상관계수와 코사인 유사도"
      ],
      "metadata": {
        "id": "3H7TN---5oSH"
      }
    },
    {
      "cell_type": "code",
      "source": [
        "def normalize(x):\n",
        "  ret = np.zeros(len(x))\n",
        "  mean = np.sum(x) / len(x)\n",
        "  for i in range(len(x)):\n",
        "    ret[i] = x[i] - mean\n",
        "  return ret\n",
        "\n",
        "def corrcoef(x, y):\n",
        "  xh = normalize(x)\n",
        "  yh = normalize(y)\n",
        "  return np.dot(xh.T, yh) / (np.linalg.norm(xh) * np.linalg.norm(yh))\n",
        "\n",
        "def cosinesim(x, y):\n",
        "  return np.dot(x.T, y) / (np.linalg.norm(x) * np.linalg.norm(y))\n",
        "\n",
        "v = np.array([0, 1, 2, 3])\n",
        "w = np.array([100, 101, 102, 103])\n",
        "\n",
        "print(\"correlation coefficient: {}\".format(corrcoef(v, w)))\n",
        "print(\"cosine similarity: {}\".format(cosinesim(v, w)))"
      ],
      "metadata": {
        "colab": {
          "base_uri": "https://localhost:8080/"
        },
        "id": "LKpCqrEG2zCP",
        "outputId": "d7a745af-c304-488b-c5ab-115e1eba7c22"
      },
      "execution_count": 64,
      "outputs": [
        {
          "output_type": "stream",
          "name": "stdout",
          "text": [
            "correlation coefficient: 0.9999999999999998\n",
            "cosine similarity: 0.8083174787557303\n"
          ]
        }
      ]
    },
    {
      "cell_type": "markdown",
      "source": [
        "### 에지 검출기"
      ],
      "metadata": {
        "id": "MZwJbaGP6qZe"
      }
    },
    {
      "cell_type": "code",
      "source": [
        "kernel = np.array([-1, 1])\n",
        "\n",
        "data = np.zeros(30)\n",
        "data[:10] = -1\n",
        "data[10:20] = 1\n",
        "data[20:] = -1\n",
        "\n",
        "for i in range(1, len(data) - 1):\n",
        "  print(\"{}: {}\".format(data[i], np.dot(data[i-1:i+1].T, kernel)))"
      ],
      "metadata": {
        "colab": {
          "base_uri": "https://localhost:8080/"
        },
        "id": "rbw0nunl6tPM",
        "outputId": "1d7173c4-95d4-473b-a06d-5055d92c3046"
      },
      "execution_count": 108,
      "outputs": [
        {
          "output_type": "stream",
          "name": "stdout",
          "text": [
            "-1.0: 0.0\n",
            "-1.0: 0.0\n",
            "-1.0: 0.0\n",
            "-1.0: 0.0\n",
            "-1.0: 0.0\n",
            "-1.0: 0.0\n",
            "-1.0: 0.0\n",
            "-1.0: 0.0\n",
            "-1.0: 0.0\n",
            "1.0: 2.0\n",
            "1.0: 0.0\n",
            "1.0: 0.0\n",
            "1.0: 0.0\n",
            "1.0: 0.0\n",
            "1.0: 0.0\n",
            "1.0: 0.0\n",
            "1.0: 0.0\n",
            "1.0: 0.0\n",
            "1.0: 0.0\n",
            "-1.0: -2.0\n",
            "-1.0: 0.0\n",
            "-1.0: 0.0\n",
            "-1.0: 0.0\n",
            "-1.0: 0.0\n",
            "-1.0: 0.0\n",
            "-1.0: 0.0\n",
            "-1.0: 0.0\n",
            "-1.0: 0.0\n"
          ]
        }
      ]
    }
  ]
}