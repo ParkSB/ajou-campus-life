{
  "nbformat": 4,
  "nbformat_minor": 0,
  "metadata": {
    "colab": {
      "provenance": [],
      "toc_visible": true
    },
    "kernelspec": {
      "name": "python3",
      "display_name": "Python 3"
    },
    "language_info": {
      "name": "python"
    }
  },
  "cells": [
    {
      "cell_type": "markdown",
      "source": [
        "# 개발자를 위한 실전 선형대수학"
      ],
      "metadata": {
        "id": "rFtpCtZStxg1"
      }
    },
    {
      "cell_type": "code",
      "source": [
        "import numpy as np\n",
        "import matplotlib.pyplot as plt\n",
        "import math"
      ],
      "metadata": {
        "id": "WYtW6qYYoYtY"
      },
      "execution_count": 148,
      "outputs": []
    },
    {
      "cell_type": "markdown",
      "source": [
        "## Chapter 1. 벡터, 파트1"
      ],
      "metadata": {
        "id": "dzpfBTwmn7wt"
      }
    },
    {
      "cell_type": "markdown",
      "source": [
        "### 벡터 덧셈"
      ],
      "metadata": {
        "id": "RQ8s5uRtoB94"
      }
    },
    {
      "cell_type": "code",
      "execution_count": 149,
      "metadata": {
        "colab": {
          "base_uri": "https://localhost:8080/"
        },
        "id": "Tqttstcen5JB",
        "outputId": "f21435ee-5454-453e-950a-96f394af464f"
      },
      "outputs": [
        {
          "output_type": "execute_result",
          "data": {
            "text/plain": [
              "array([[ 5, -4]])"
            ]
          },
          "metadata": {},
          "execution_count": 149
        }
      ],
      "source": [
        "v = np.array([[1, 2]])\n",
        "w = np.array([[4, -6]])\n",
        "v + w"
      ]
    },
    {
      "cell_type": "markdown",
      "source": [
        "### 벡터 노름 계산\n",
        "\n",
        "$||\\mathbf v|| = \\sqrt{\\sum_{i=1}^n v_i^2}$"
      ],
      "metadata": {
        "id": "sQLd6PSsrfFU"
      }
    },
    {
      "cell_type": "code",
      "source": [
        "def norm(v):\n",
        "  return np.sqrt(np.sum(v ** 2))\n",
        "\n",
        "v = np.array([[3, 5, 1]])\n",
        "\n",
        "print(\"res: {}, ans: {}\".format(norm(v), np.linalg.norm(v)))"
      ],
      "metadata": {
        "colab": {
          "base_uri": "https://localhost:8080/"
        },
        "id": "r2cdxBlcp1te",
        "outputId": "b4d08097-c9d1-4d27-cdb5-f73b976e6fb5"
      },
      "execution_count": 150,
      "outputs": [
        {
          "output_type": "stream",
          "name": "stdout",
          "text": [
            "res: 5.916079783099616, ans: 5.916079783099616\n"
          ]
        }
      ]
    },
    {
      "cell_type": "markdown",
      "source": [
        "### 단위 벡터\n",
        "\n",
        "$\\hat{\\mathbf v} = {1 \\over ||\\mathbf v||} \\mathbf v$"
      ],
      "metadata": {
        "id": "yC0pIY6As0ZX"
      }
    },
    {
      "cell_type": "code",
      "source": [
        "def identity(v):\n",
        "  return v / norm(v)\n",
        "\n",
        "v = identity(np.array([[3, 5, 1]]))\n",
        "print(\"v: {}, norm: {}\".format(v, norm(v)))"
      ],
      "metadata": {
        "colab": {
          "base_uri": "https://localhost:8080/"
        },
        "id": "Y1Slz8H2s5qk",
        "outputId": "a9375905-78a6-4101-8eff-3e66fa49b3c6"
      },
      "execution_count": 151,
      "outputs": [
        {
          "output_type": "stream",
          "name": "stdout",
          "text": [
            "v: [[0.50709255 0.84515425 0.16903085]], norm: 1.0\n"
          ]
        }
      ]
    },
    {
      "cell_type": "markdown",
      "source": [
        "### 임의 크기 벡터"
      ],
      "metadata": {
        "id": "NRUjHgRHv4Y2"
      }
    },
    {
      "cell_type": "code",
      "source": [
        "def identity(v, s):\n",
        "  return s * v / norm(v)\n",
        "\n",
        "v = identity(np.array([[3, 5, 1]]), 3)\n",
        "print(\"v: {}, norm: {}\".format(v, norm(v)))"
      ],
      "metadata": {
        "colab": {
          "base_uri": "https://localhost:8080/"
        },
        "id": "WXpIP9B3ut9I",
        "outputId": "dfc80b76-8f2a-48b0-d960-31673d058db8"
      },
      "execution_count": 152,
      "outputs": [
        {
          "output_type": "stream",
          "name": "stdout",
          "text": [
            "v: [[1.52127766 2.53546276 0.50709255]], norm: 3.0000000000000004\n"
          ]
        }
      ]
    },
    {
      "cell_type": "markdown",
      "source": [
        "### 전치"
      ],
      "metadata": {
        "id": "xHE2Vz3kv6Ye"
      }
    },
    {
      "cell_type": "code",
      "source": [
        "def transpose(v):\n",
        "  ret = np.zeros((v.shape[1], v.shape[0]))\n",
        "  for i in range(v.shape[1]):\n",
        "    ret[i][0] = v[0][i]\n",
        "  return ret\n",
        "\n",
        "v = np.array([[3, 5, 1]])\n",
        "\n",
        "print(\"res:\\n{}\\n\\nans:\\n{}\".format(transpose(v), v.T));"
      ],
      "metadata": {
        "colab": {
          "base_uri": "https://localhost:8080/"
        },
        "id": "TsM9RwWYv73z",
        "outputId": "ffe14d81-98fc-494b-bf24-e79dff01b3e4"
      },
      "execution_count": 153,
      "outputs": [
        {
          "output_type": "stream",
          "name": "stdout",
          "text": [
            "res:\n",
            "[[3.]\n",
            " [5.]\n",
            " [1.]]\n",
            "\n",
            "ans:\n",
            "[[3]\n",
            " [5]\n",
            " [1]]\n"
          ]
        }
      ]
    },
    {
      "cell_type": "markdown",
      "source": [
        "### 내적을 이용한 노름 계산\n",
        "\n",
        "$\\delta = \\sum_{i=1}^n a_i b_i$"
      ],
      "metadata": {
        "id": "9hrdQGOTzfJm"
      }
    },
    {
      "cell_type": "code",
      "source": [
        "v = np.array([[3, 5, 1]])\n",
        "\n",
        "print(\"res: {}, ans: {}\".format(\n",
        "    np.sqrt(np.dot(v, v.T)), np.linalg.norm(v)))"
      ],
      "metadata": {
        "colab": {
          "base_uri": "https://localhost:8080/"
        },
        "id": "9jApJtbMzg_d",
        "outputId": "06d09d5b-7b6a-48ab-9c1b-dabf54356a4b"
      },
      "execution_count": 154,
      "outputs": [
        {
          "output_type": "stream",
          "name": "stdout",
          "text": [
            "res: [[5.91607978]], ans: 5.916079783099616\n"
          ]
        }
      ]
    },
    {
      "cell_type": "markdown",
      "source": [
        "### 내적의 교환 법칙\n",
        "\n",
        "$\\mathbf v^T \\mathbf w = \\mathbf w^T \\mathbf v$"
      ],
      "metadata": {
        "id": "noMmIuXp2Yjc"
      }
    },
    {
      "cell_type": "code",
      "source": [
        "v = np.array([[3, 5, 1]])\n",
        "w = np.array([[4, 3, 7]])\n",
        "\n",
        "print(\"v * w: {}, w * v: {}\".format(np.sum(v * w), np.sum(w * v)))"
      ],
      "metadata": {
        "colab": {
          "base_uri": "https://localhost:8080/"
        },
        "id": "UsOad5Tj2nAd",
        "outputId": "6cdc3707-ec50-48ec-de6d-fbea335b03d3"
      },
      "execution_count": 155,
      "outputs": [
        {
          "output_type": "stream",
          "name": "stdout",
          "text": [
            "v * w: 34, w * v: 34\n"
          ]
        }
      ]
    },
    {
      "cell_type": "markdown",
      "source": [
        "## Chapter 2. 벡터, 파트 2"
      ],
      "metadata": {
        "id": "sc48XrVatjSc"
      }
    },
    {
      "cell_type": "markdown",
      "source": [
        "### 선형가중결합\n",
        "\n",
        "$\\mathbf{w} = \\lambda_1 \\mathbf{v}_1 + \\lambda_2 \\mathbf{v}_2 + \\cdots + \\lambda_n \\mathbf{v}_n$"
      ],
      "metadata": {
        "id": "5-G0JzYDt7DS"
      }
    },
    {
      "cell_type": "code",
      "source": [
        "v = np.array([[4, 5, 1], [-4, 0, -4], [1, 3, 2]])\n",
        "l = [1, 2, -3]\n",
        "w = np.zeros((3, 1))\n",
        "\n",
        "for i in range(3):\n",
        "  for j in range(3):\n",
        "    w[i] += l[j] * v[j][i]\n",
        "\n",
        "print(\"w = l * v =\\n{}\".format(w))"
      ],
      "metadata": {
        "colab": {
          "base_uri": "https://localhost:8080/"
        },
        "id": "GfgigW0puKxh",
        "outputId": "5519ae2c-83e8-4aef-cd96-9c5c63082904"
      },
      "execution_count": 156,
      "outputs": [
        {
          "output_type": "stream",
          "name": "stdout",
          "text": [
            "w = l * v =\n",
            "[[ -7.]\n",
            " [ -4.]\n",
            " [-13.]]\n"
          ]
        }
      ]
    },
    {
      "cell_type": "markdown",
      "source": [
        "## Chapter 3. 벡터 응용"
      ],
      "metadata": {
        "id": "G9pLXoI42wtB"
      }
    },
    {
      "cell_type": "markdown",
      "source": [
        "### 피어슨 상관계수와 코사인 유사도"
      ],
      "metadata": {
        "id": "3H7TN---5oSH"
      }
    },
    {
      "cell_type": "code",
      "source": [
        "def normalize(x):\n",
        "  ret = np.zeros(len(x))\n",
        "  mean = np.sum(x) / len(x)\n",
        "  for i in range(len(x)):\n",
        "    ret[i] = x[i] - mean\n",
        "  return ret\n",
        "\n",
        "def corrcoef(x, y):\n",
        "  xh = normalize(x)\n",
        "  yh = normalize(y)\n",
        "  return np.dot(xh.T, yh) / (np.linalg.norm(xh) * np.linalg.norm(yh))\n",
        "\n",
        "def cosinesim(x, y):\n",
        "  return np.dot(x.T, y) / (np.linalg.norm(x) * np.linalg.norm(y))\n",
        "\n",
        "v = np.array([0, 1, 2, 3])\n",
        "w = np.array([100, 101, 102, 103])\n",
        "\n",
        "print(\"correlation coefficient: {}\".format(corrcoef(v, w)))\n",
        "print(\"cosine similarity: {}\".format(cosinesim(v, w)))"
      ],
      "metadata": {
        "colab": {
          "base_uri": "https://localhost:8080/"
        },
        "id": "LKpCqrEG2zCP",
        "outputId": "28e616ee-24eb-4c33-dcc5-e0469f46a03f"
      },
      "execution_count": 157,
      "outputs": [
        {
          "output_type": "stream",
          "name": "stdout",
          "text": [
            "correlation coefficient: 0.9999999999999998\n",
            "cosine similarity: 0.8083174787557303\n"
          ]
        }
      ]
    },
    {
      "cell_type": "markdown",
      "source": [
        "### 에지 검출기"
      ],
      "metadata": {
        "id": "MZwJbaGP6qZe"
      }
    },
    {
      "cell_type": "code",
      "source": [
        "kernel = np.array([-1, 1])\n",
        "\n",
        "data = np.zeros(30)\n",
        "data[:10] = -1\n",
        "data[10:20] = 1\n",
        "data[20:] = -1\n",
        "\n",
        "for i in range(1, len(data) - 1):\n",
        "  print(\"{}: {}\".format(data[i], np.dot(data[i-1:i+1].T, kernel)))"
      ],
      "metadata": {
        "colab": {
          "base_uri": "https://localhost:8080/"
        },
        "id": "rbw0nunl6tPM",
        "outputId": "1425a7f2-10db-43aa-d854-394c5b2e3ac9"
      },
      "execution_count": 158,
      "outputs": [
        {
          "output_type": "stream",
          "name": "stdout",
          "text": [
            "-1.0: 0.0\n",
            "-1.0: 0.0\n",
            "-1.0: 0.0\n",
            "-1.0: 0.0\n",
            "-1.0: 0.0\n",
            "-1.0: 0.0\n",
            "-1.0: 0.0\n",
            "-1.0: 0.0\n",
            "-1.0: 0.0\n",
            "1.0: 2.0\n",
            "1.0: 0.0\n",
            "1.0: 0.0\n",
            "1.0: 0.0\n",
            "1.0: 0.0\n",
            "1.0: 0.0\n",
            "1.0: 0.0\n",
            "1.0: 0.0\n",
            "1.0: 0.0\n",
            "1.0: 0.0\n",
            "-1.0: -2.0\n",
            "-1.0: 0.0\n",
            "-1.0: 0.0\n",
            "-1.0: 0.0\n",
            "-1.0: 0.0\n",
            "-1.0: 0.0\n",
            "-1.0: 0.0\n",
            "-1.0: 0.0\n",
            "-1.0: 0.0\n"
          ]
        }
      ]
    },
    {
      "cell_type": "markdown",
      "source": [
        "## Chapter 4. 행렬, 파트 1"
      ],
      "metadata": {
        "id": "u_9uVBv2yLv8"
      }
    },
    {
      "cell_type": "markdown",
      "source": [
        "### 행렬 원소 추출"
      ],
      "metadata": {
        "id": "Ku4pk2dnyR09"
      }
    },
    {
      "cell_type": "code",
      "source": [
        "M = np.arange(12).reshape(3, 4)\n",
        "\n",
        "r = 1\n",
        "c = 3\n",
        "\n",
        "print(M)\n",
        "print(\"The matrix element at index ({}, {}) is {}\".format(r+1, c+1, M[r][c]))"
      ],
      "metadata": {
        "colab": {
          "base_uri": "https://localhost:8080/"
        },
        "id": "h0PLu1eEyQTV",
        "outputId": "39ca309d-ac76-4048-b9fc-058b32b078ff"
      },
      "execution_count": 159,
      "outputs": [
        {
          "output_type": "stream",
          "name": "stdout",
          "text": [
            "[[ 0  1  2  3]\n",
            " [ 4  5  6  7]\n",
            " [ 8  9 10 11]]\n",
            "The matrix element at index (2, 4) is 7\n"
          ]
        }
      ]
    },
    {
      "cell_type": "markdown",
      "source": [
        "### 부분 행렬 추출"
      ],
      "metadata": {
        "id": "L7DKHCZMy9cX"
      }
    },
    {
      "cell_type": "code",
      "source": [
        "C = np.arange(100).reshape(10, 10)\n",
        "print(C)\n",
        "\n",
        "C1 = C[5::1,:5:1]\n",
        "C2 = C[5::1,5::1]\n",
        "C3 = C[:5:1,5::1]\n",
        "C4 = C[:5:1,:5:1]\n",
        "print(np.array([C2, C1, C3, C4]).reshape(10, 10))"
      ],
      "metadata": {
        "colab": {
          "base_uri": "https://localhost:8080/"
        },
        "id": "rh0zddXTzCC4",
        "outputId": "e68b27bd-d578-4aeb-f3cd-9e4243521da0"
      },
      "execution_count": 160,
      "outputs": [
        {
          "output_type": "stream",
          "name": "stdout",
          "text": [
            "[[ 0  1  2  3  4  5  6  7  8  9]\n",
            " [10 11 12 13 14 15 16 17 18 19]\n",
            " [20 21 22 23 24 25 26 27 28 29]\n",
            " [30 31 32 33 34 35 36 37 38 39]\n",
            " [40 41 42 43 44 45 46 47 48 49]\n",
            " [50 51 52 53 54 55 56 57 58 59]\n",
            " [60 61 62 63 64 65 66 67 68 69]\n",
            " [70 71 72 73 74 75 76 77 78 79]\n",
            " [80 81 82 83 84 85 86 87 88 89]\n",
            " [90 91 92 93 94 95 96 97 98 99]]\n",
            "[[55 56 57 58 59 65 66 67 68 69]\n",
            " [75 76 77 78 79 85 86 87 88 89]\n",
            " [95 96 97 98 99 50 51 52 53 54]\n",
            " [60 61 62 63 64 70 71 72 73 74]\n",
            " [80 81 82 83 84 90 91 92 93 94]\n",
            " [ 5  6  7  8  9 15 16 17 18 19]\n",
            " [25 26 27 28 29 35 36 37 38 39]\n",
            " [45 46 47 48 49  0  1  2  3  4]\n",
            " [10 11 12 13 14 20 21 22 23 24]\n",
            " [30 31 32 33 34 40 41 42 43 44]]\n"
          ]
        }
      ]
    },
    {
      "cell_type": "markdown",
      "source": [
        "### 행렬 덧셈"
      ],
      "metadata": {
        "id": "DTUEkR8P3hiX"
      }
    },
    {
      "cell_type": "code",
      "source": [
        "A = np.array([[2, 3, 4], [1, 2, 4]])\n",
        "B = np.array([[0, 3, 1], [-1, -4, 2]])\n",
        "\n",
        "C = np.zeros((2, 3))\n",
        "for i in range(2):\n",
        "  for j in range(3):\n",
        "    C[i,j] = A[i,j] + B[i,j]\n",
        "\n",
        "print(C)"
      ],
      "metadata": {
        "colab": {
          "base_uri": "https://localhost:8080/"
        },
        "id": "JPjU4HSi3i19",
        "outputId": "f544fc03-e7af-45ea-942e-da801e8a8d26"
      },
      "execution_count": 161,
      "outputs": [
        {
          "output_type": "stream",
          "name": "stdout",
          "text": [
            "[[ 2.  6.  5.]\n",
            " [ 0. -2.  6.]]\n"
          ]
        }
      ]
    },
    {
      "cell_type": "markdown",
      "source": [
        "### 행렬 덧셈과 스칼라 곱셈의 교환/분배 법칙\n",
        "\n",
        "$\\sigma(A + B) = \\sigma A + \\sigma B = A \\sigma + B \\sigma$"
      ],
      "metadata": {
        "id": "zASemVIF4ukv"
      }
    },
    {
      "cell_type": "code",
      "source": [
        "A = np.random.randn(3, 4)\n",
        "B = np.random.randn(3, 4)\n",
        "s = np.random.randn()\n",
        "\n",
        "C1 = s * (A + B)\n",
        "C2 = s * A + s * B\n",
        "C3 = A * s + B * s\n",
        "\n",
        "print(C1)\n",
        "print(C2)\n",
        "print(C3)\n",
        "\n",
        "print(np.isclose(C1, C2))\n",
        "print(np.isclose(C2, C3))"
      ],
      "metadata": {
        "colab": {
          "base_uri": "https://localhost:8080/"
        },
        "id": "EFYm6oqz4z2v",
        "outputId": "bb8b52ed-0836-4ab4-c3b6-1dbf725b9d98"
      },
      "execution_count": 162,
      "outputs": [
        {
          "output_type": "stream",
          "name": "stdout",
          "text": [
            "[[-0.91963512  0.30574889  0.40090057 -0.00851239]\n",
            " [ 0.32665349 -0.75343797  0.77415184  0.08801907]\n",
            " [ 0.34436519 -1.22663214 -0.39339008  0.87263356]]\n",
            "[[-0.91963512  0.30574889  0.40090057 -0.00851239]\n",
            " [ 0.32665349 -0.75343797  0.77415184  0.08801907]\n",
            " [ 0.34436519 -1.22663214 -0.39339008  0.87263356]]\n",
            "[[-0.91963512  0.30574889  0.40090057 -0.00851239]\n",
            " [ 0.32665349 -0.75343797  0.77415184  0.08801907]\n",
            " [ 0.34436519 -1.22663214 -0.39339008  0.87263356]]\n",
            "[[ True  True  True  True]\n",
            " [ True  True  True  True]\n",
            " [ True  True  True  True]]\n",
            "[[ True  True  True  True]\n",
            " [ True  True  True  True]\n",
            " [ True  True  True  True]]\n"
          ]
        }
      ]
    },
    {
      "cell_type": "markdown",
      "source": [
        "### 행렬 곱셈"
      ],
      "metadata": {
        "id": "QMPMDsE-7JvQ"
      }
    },
    {
      "cell_type": "code",
      "source": [
        "A = np.random.randn(3, 5)\n",
        "B = np.random.randn(5, 3)\n",
        "\n",
        "C = np.zeros((3, 3))\n",
        "for i in range(3):\n",
        "  for j in range(3):\n",
        "    C[i,j] = np.dot(A[i,:], B[:,j])\n",
        "\n",
        "print(C)\n",
        "print(A @ B)\n",
        "print(np.isclose(C, A @ B))"
      ],
      "metadata": {
        "colab": {
          "base_uri": "https://localhost:8080/"
        },
        "id": "9jQBfAxA7MwN",
        "outputId": "b5906482-4a99-484c-cde4-4d6d83587eeb"
      },
      "execution_count": 163,
      "outputs": [
        {
          "output_type": "stream",
          "name": "stdout",
          "text": [
            "[[-2.83153695 -3.05274489  4.22999434]\n",
            " [-0.79068696  0.73548158  0.76574581]\n",
            " [ 1.25043596 -1.662077   -1.38436088]]\n",
            "[[-2.83153695 -3.05274489  4.22999434]\n",
            " [-0.79068696  0.73548158  0.76574581]\n",
            " [ 1.25043596 -1.662077   -1.38436088]]\n",
            "[[ True  True  True]\n",
            " [ True  True  True]\n",
            " [ True  True  True]]\n"
          ]
        }
      ]
    },
    {
      "cell_type": "markdown",
      "source": [
        "### LIVE EVIL 규칙\n",
        "\n",
        "$(LIVE)^T = E^T V^T I^T L^T$"
      ],
      "metadata": {
        "id": "vVOiuyym9bML"
      }
    },
    {
      "cell_type": "code",
      "source": [
        "L = np.random.randn(2, 6)\n",
        "I = np.random.randn(6, 3)\n",
        "V = np.random.randn(3, 5)\n",
        "E = np.random.randn(5, 2)\n",
        "\n",
        "LIVE = (L @ I @ V @ E).T\n",
        "EVIL = E.T @ V.T @ I.T @ L.T\n",
        "\n",
        "print(LIVE)\n",
        "print(EVIL)\n",
        "print(np.isclose(LIVE, EVIL))"
      ],
      "metadata": {
        "colab": {
          "base_uri": "https://localhost:8080/"
        },
        "id": "EM3hn9Wq9nTs",
        "outputId": "41dd1611-0b77-454f-e470-69c5bdbcd7b1"
      },
      "execution_count": 164,
      "outputs": [
        {
          "output_type": "stream",
          "name": "stdout",
          "text": [
            "[[ 5.92947391 -5.11652811]\n",
            " [-3.52679336  2.35117864]]\n",
            "[[ 5.92947391 -5.11652811]\n",
            " [-3.52679336  2.35117864]]\n",
            "[[ True  True]\n",
            " [ True  True]]\n"
          ]
        }
      ]
    },
    {
      "cell_type": "markdown",
      "source": [
        "### 대칭 행렬"
      ],
      "metadata": {
        "id": "eV9uc8XA-i2C"
      }
    },
    {
      "cell_type": "code",
      "source": [
        "def is_symmetric(a):\n",
        "  diff = a.T - a\n",
        "  for i in range(diff.shape[0]):\n",
        "    for j in range(diff.shape[1]):\n",
        "      if not np.isclose(diff[i,j], 0): return False\n",
        "  return True\n",
        "\n",
        "print(is_symmetric(np.array([[1, 0 ,0], [0, 1, 0], [0, 0, 1]])))\n",
        "print(is_symmetric(np.array([[1, 1 ,0], [0, 1, 1], [1, 0, 1]])))\n",
        "print(is_symmetric(np.array([[1, 0 ,1],\n",
        "                             [0, 0, 1],\n",
        "                             [1, 1, 1]])))"
      ],
      "metadata": {
        "colab": {
          "base_uri": "https://localhost:8080/"
        },
        "id": "Z6gzZFHv-ksh",
        "outputId": "d0d90d7c-5c65-4695-d5c4-096157770b55"
      },
      "execution_count": 165,
      "outputs": [
        {
          "output_type": "stream",
          "name": "stdout",
          "text": [
            "True\n",
            "False\n",
            "True\n"
          ]
        }
      ]
    }
  ]
}